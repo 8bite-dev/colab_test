{
  "nbformat": 4,
  "nbformat_minor": 0,
  "metadata": {
    "colab": {
      "provenance": [],
      "authorship_tag": "ABX9TyMh/A70vKuY1PmJvh4CiHlW",
      "include_colab_link": true
    },
    "kernelspec": {
      "name": "python3",
      "display_name": "Python 3"
    },
    "language_info": {
      "name": "python"
    }
  },
  "cells": [
    {
      "cell_type": "markdown",
      "metadata": {
        "id": "view-in-github",
        "colab_type": "text"
      },
      "source": [
        "<a href=\"https://colab.research.google.com/github/8bite-dev/colab_test/blob/main/simple_deep_learning.ipynb\" target=\"_parent\"><img src=\"https://colab.research.google.com/assets/colab-badge.svg\" alt=\"Open In Colab\"/></a>"
      ]
    },
    {
      "cell_type": "markdown",
      "source": [
        "# シンプルなディープラーニング\n",
        "## データの読み込み"
      ],
      "metadata": {
        "id": "Xx9KvNOpy0is"
      }
    },
    {
      "cell_type": "code",
      "execution_count": 32,
      "metadata": {
        "colab": {
          "base_uri": "https://localhost:8080/"
        },
        "id": "aAY1V2PsytR6",
        "outputId": "69b22c4b-b7fe-4f4a-df09-27c4b7e67e6d"
      },
      "outputs": [
        {
          "output_type": "stream",
          "name": "stdout",
          "text": [
            "[[5.1 3.5 1.4 0.2]\n",
            " [4.9 3.  1.4 0.2]\n",
            " [4.7 3.2 1.3 0.2]\n",
            " [4.6 3.1 1.5 0.2]\n",
            " [5.  3.6 1.4 0.2]\n",
            " [5.4 3.9 1.7 0.4]\n",
            " [4.6 3.4 1.4 0.3]\n",
            " [5.  3.4 1.5 0.2]\n",
            " [4.4 2.9 1.4 0.2]\n",
            " [4.9 3.1 1.5 0.1]]\n",
            "[0 0 0 0 0 0 0 0 0 0]\n",
            "(150, 4)\n"
          ]
        }
      ],
      "source": [
        "import numpy as np\n",
        "from sklearn import datasets\n",
        "\n",
        "iris = datasets.load_iris()\n",
        "print(iris.data[:10])\n",
        "print(iris.target[:10])\n",
        "print(iris.data.shape)"
      ]
    },
    {
      "cell_type": "code",
      "source": [
        "from sklearn import preprocessing\n",
        "from keras import utils\n",
        "\n",
        "scaler = preprocessing.StandardScaler()\n",
        "scaler.fit(iris.data)\n",
        "x = scaler.transform(iris.data)\n",
        "print(x[:10])\n",
        "\n",
        "t = utils.to_categorical(iris.target)\n",
        "print(t[:10])"
      ],
      "metadata": {
        "colab": {
          "base_uri": "https://localhost:8080/"
        },
        "id": "0hkjWSthzy91",
        "outputId": "9e0fc5b3-1064-4a64-fc33-287f40b83c36"
      },
      "execution_count": 35,
      "outputs": [
        {
          "output_type": "stream",
          "name": "stdout",
          "text": [
            "[[-0.90068117  1.01900435 -1.34022653 -1.3154443 ]\n",
            " [-1.14301691 -0.13197948 -1.34022653 -1.3154443 ]\n",
            " [-1.38535265  0.32841405 -1.39706395 -1.3154443 ]\n",
            " [-1.50652052  0.09821729 -1.2833891  -1.3154443 ]\n",
            " [-1.02184904  1.24920112 -1.34022653 -1.3154443 ]\n",
            " [-0.53717756  1.93979142 -1.16971425 -1.05217993]\n",
            " [-1.50652052  0.78880759 -1.34022653 -1.18381211]\n",
            " [-1.02184904  0.78880759 -1.2833891  -1.3154443 ]\n",
            " [-1.74885626 -0.36217625 -1.34022653 -1.3154443 ]\n",
            " [-1.14301691  0.09821729 -1.2833891  -1.44707648]]\n",
            "[[1. 0. 0.]\n",
            " [1. 0. 0.]\n",
            " [1. 0. 0.]\n",
            " [1. 0. 0.]\n",
            " [1. 0. 0.]\n",
            " [1. 0. 0.]\n",
            " [1. 0. 0.]\n",
            " [1. 0. 0.]\n",
            " [1. 0. 0.]\n",
            " [1. 0. 0.]]\n"
          ]
        }
      ]
    },
    {
      "cell_type": "code",
      "source": [
        "from sklearn.model_selection import train_test_split\n",
        "\n",
        "x_train, x_test, t_train, t_test = train_test_split(x, t, train_size=0.75)\n",
        "\n",
        "print(x_train.shape)\n",
        "print(x_test.shape)"
      ],
      "metadata": {
        "id": "XnYa63b_3wxL",
        "colab": {
          "base_uri": "https://localhost:8080/"
        },
        "outputId": "4324c7ca-1967-4313-8263-e7e5eea68c3e"
      },
      "execution_count": 38,
      "outputs": [
        {
          "output_type": "stream",
          "name": "stdout",
          "text": [
            "(112, 4)\n",
            "(38, 4)\n"
          ]
        }
      ]
    },
    {
      "cell_type": "markdown",
      "source": [
        "# モデルの構築"
      ],
      "metadata": {
        "id": "uz2cSzTV9j0J"
      }
    },
    {
      "cell_type": "code",
      "source": [
        "from keras.models import Sequential\n",
        "from keras.layers import Dense, Activation\n",
        "\n",
        "model = Sequential()\n",
        "model.add(Dense(32, input_dim=4))\n",
        "model.add(Activation('relu'))\n",
        "model.add(Dense(32))\n",
        "model.add(Activation('relu'))\n",
        "model.add(Dense(3))\n",
        "model.add(Activation('softmax'))\n",
        "model.compile(optimizer='sgd', loss='categorical_crossentropy', metrics=['accuracy'])\n",
        "\n",
        "print(model.summary())"
      ],
      "metadata": {
        "colab": {
          "base_uri": "https://localhost:8080/"
        },
        "id": "MzxI-Ogu9iI7",
        "outputId": "eabd25a2-d364-4957-d6c1-696c01c003be"
      },
      "execution_count": 40,
      "outputs": [
        {
          "output_type": "stream",
          "name": "stdout",
          "text": [
            "Model: \"sequential_1\"\n",
            "_________________________________________________________________\n",
            " Layer (type)                Output Shape              Param #   \n",
            "=================================================================\n",
            " dense_3 (Dense)             (None, 32)                160       \n",
            "                                                                 \n",
            " activation_3 (Activation)   (None, 32)                0         \n",
            "                                                                 \n",
            " dense_4 (Dense)             (None, 32)                1056      \n",
            "                                                                 \n",
            " activation_4 (Activation)   (None, 32)                0         \n",
            "                                                                 \n",
            " dense_5 (Dense)             (None, 3)                 99        \n",
            "                                                                 \n",
            " activation_5 (Activation)   (None, 3)                 0         \n",
            "                                                                 \n",
            "=================================================================\n",
            "Total params: 1315 (5.14 KB)\n",
            "Trainable params: 1315 (5.14 KB)\n",
            "Non-trainable params: 0 (0.00 Byte)\n",
            "_________________________________________________________________\n",
            "None\n"
          ]
        }
      ]
    },
    {
      "cell_type": "code",
      "source": [
        "history = model.fit(x_train, t_train, epochs=30, batch_size=8)"
      ],
      "metadata": {
        "colab": {
          "base_uri": "https://localhost:8080/"
        },
        "id": "CniIE_Af_2Kp",
        "outputId": "2b5ad610-734c-4be7-86dc-0a0e342833e3"
      },
      "execution_count": 42,
      "outputs": [
        {
          "output_type": "stream",
          "name": "stdout",
          "text": [
            "Epoch 1/30\n",
            "14/14 [==============================] - 1s 3ms/step - loss: 1.1880 - accuracy: 0.2500 \n",
            "Epoch 2/30\n",
            "14/14 [==============================] - 0s 2ms/step - loss: 1.1182 - accuracy: 0.2857\n",
            "Epoch 3/30\n",
            "14/14 [==============================] - 0s 2ms/step - loss: 1.0677 - accuracy: 0.3304\n",
            "Epoch 4/30\n",
            "14/14 [==============================] - 0s 2ms/step - loss: 1.0239 - accuracy: 0.4732\n",
            "Epoch 5/30\n",
            "14/14 [==============================] - 0s 2ms/step - loss: 0.9807 - accuracy: 0.6429\n",
            "Epoch 6/30\n",
            "14/14 [==============================] - 0s 2ms/step - loss: 0.9381 - accuracy: 0.6786\n",
            "Epoch 7/30\n",
            "14/14 [==============================] - 0s 2ms/step - loss: 0.8942 - accuracy: 0.6786\n",
            "Epoch 8/30\n",
            "14/14 [==============================] - 0s 2ms/step - loss: 0.8493 - accuracy: 0.6875\n",
            "Epoch 9/30\n",
            "14/14 [==============================] - 0s 2ms/step - loss: 0.8049 - accuracy: 0.7589\n",
            "Epoch 10/30\n",
            "14/14 [==============================] - 0s 2ms/step - loss: 0.7616 - accuracy: 0.7857\n",
            "Epoch 11/30\n",
            "14/14 [==============================] - 0s 2ms/step - loss: 0.7193 - accuracy: 0.8125\n",
            "Epoch 12/30\n",
            "14/14 [==============================] - 0s 2ms/step - loss: 0.6808 - accuracy: 0.8214\n",
            "Epoch 13/30\n",
            "14/14 [==============================] - 0s 2ms/step - loss: 0.6441 - accuracy: 0.8393\n",
            "Epoch 14/30\n",
            "14/14 [==============================] - 0s 2ms/step - loss: 0.6110 - accuracy: 0.8393\n",
            "Epoch 15/30\n",
            "14/14 [==============================] - 0s 2ms/step - loss: 0.5821 - accuracy: 0.8304\n",
            "Epoch 16/30\n",
            "14/14 [==============================] - 0s 2ms/step - loss: 0.5554 - accuracy: 0.8393\n",
            "Epoch 17/30\n",
            "14/14 [==============================] - 0s 2ms/step - loss: 0.5325 - accuracy: 0.8393\n",
            "Epoch 18/30\n",
            "14/14 [==============================] - 0s 2ms/step - loss: 0.5115 - accuracy: 0.8482\n",
            "Epoch 19/30\n",
            "14/14 [==============================] - 0s 2ms/step - loss: 0.4931 - accuracy: 0.8571\n",
            "Epoch 20/30\n",
            "14/14 [==============================] - 0s 2ms/step - loss: 0.4763 - accuracy: 0.8482\n",
            "Epoch 21/30\n",
            "14/14 [==============================] - 0s 2ms/step - loss: 0.4606 - accuracy: 0.8482\n",
            "Epoch 22/30\n",
            "14/14 [==============================] - 0s 2ms/step - loss: 0.4472 - accuracy: 0.8571\n",
            "Epoch 23/30\n",
            "14/14 [==============================] - 0s 2ms/step - loss: 0.4343 - accuracy: 0.8482\n",
            "Epoch 24/30\n",
            "14/14 [==============================] - 0s 2ms/step - loss: 0.4232 - accuracy: 0.8482\n",
            "Epoch 25/30\n",
            "14/14 [==============================] - 0s 2ms/step - loss: 0.4120 - accuracy: 0.8482\n",
            "Epoch 26/30\n",
            "14/14 [==============================] - 0s 2ms/step - loss: 0.4020 - accuracy: 0.8750\n",
            "Epoch 27/30\n",
            "14/14 [==============================] - 0s 2ms/step - loss: 0.3924 - accuracy: 0.8661\n",
            "Epoch 28/30\n",
            "14/14 [==============================] - 0s 2ms/step - loss: 0.3830 - accuracy: 0.8661\n",
            "Epoch 29/30\n",
            "14/14 [==============================] - 0s 2ms/step - loss: 0.3754 - accuracy: 0.8750\n",
            "Epoch 30/30\n",
            "14/14 [==============================] - 0s 2ms/step - loss: 0.3671 - accuracy: 0.8750\n"
          ]
        }
      ]
    },
    {
      "cell_type": "markdown",
      "source": [
        "# 学習の推移"
      ],
      "metadata": {
        "id": "vAlLYW5-Ae0a"
      }
    },
    {
      "cell_type": "code",
      "source": [
        "import matplotlib.pyplot as plt\n",
        "\n",
        "hist_loss = history.history['loss']\n",
        "hist_acc = history.history['accuracy']\n",
        "\n",
        "plt.plot(np.arange(len(hist_loss)), hist_loss, label='loss')\n",
        "plt.plot(np.arange(len(hist_acc)), hist_acc, label='accuracy')\n",
        "plt.legend()\n",
        "plt.show()"
      ],
      "metadata": {
        "colab": {
          "base_uri": "https://localhost:8080/",
          "height": 430
        },
        "id": "Qm05xdc8Ad3W",
        "outputId": "af7dde56-4fcf-4bda-de9c-18007891e023"
      },
      "execution_count": 47,
      "outputs": [
        {
          "output_type": "display_data",
          "data": {
            "text/plain": [
              "<Figure size 640x480 with 1 Axes>"
            ],
            "image/png": "[encoded data removed]"
          },
          "metadata": {}
        }
      ]
    },
    {
      "cell_type": "markdown",
      "source": [
        "# 評価"
      ],
      "metadata": {
        "id": "CHfYgV82B3mE"
      }
    },
    {
      "cell_type": "code",
      "source": [
        "from keras.src.metrics import accuracy\n",
        "loss, accuracy = model.evaluate(x_test, t_test)\n",
        "print(loss, accuracy)"
      ],
      "metadata": {
        "colab": {
          "base_uri": "https://localhost:8080/"
        },
        "id": "YEfDBLLDB3DG",
        "outputId": "b2df115a-697e-4ea0-f769-11da3f7bb5e5"
      },
      "execution_count": 50,
      "outputs": [
        {
          "output_type": "stream",
          "name": "stdout",
          "text": [
            "2/2 [==============================] - 0s 12ms/step - loss: 0.3710 - accuracy: 0.7895\n",
            "0.3710181415081024 0.7894737124443054\n"
          ]
        }
      ]
    },
    {
      "cell_type": "markdown",
      "source": [
        "# 予測"
      ],
      "metadata": {
        "id": "YsmnItnVCkPn"
      }
    },
    {
      "cell_type": "code",
      "source": [
        "model.predict(x_test)"
      ],
      "metadata": {
        "colab": {
          "base_uri": "https://localhost:8080/"
        },
        "id": "FBBmEunRCmP1",
        "outputId": "86a34b98-7e70-4411-94ad-0531abc568b4"
      },
      "execution_count": 51,
      "outputs": [
        {
          "output_type": "stream",
          "name": "stdout",
          "text": [
            "2/2 [==============================] - 0s 9ms/step\n"
          ]
        },
        {
          "output_type": "execute_result",
          "data": {
            "text/plain": [
              "array([[0.9383443 , 0.05174929, 0.00990641],\n",
              "       [0.01739927, 0.54571116, 0.43688956],\n",
              "       [0.06314612, 0.40805292, 0.52880096],\n",
              "       [0.95188785, 0.03786363, 0.0102485 ],\n",
              "       [0.0617418 , 0.3889039 , 0.54935426],\n",
              "       [0.04701666, 0.53974265, 0.41324067],\n",
              "       [0.01520792, 0.23551263, 0.74927956],\n",
              "       [0.04325155, 0.45628294, 0.50046563],\n",
              "       [0.00458832, 0.14859295, 0.84681875],\n",
              "       [0.03941794, 0.2536546 , 0.7069274 ],\n",
              "       [0.01005761, 0.39993718, 0.5900052 ],\n",
              "       [0.94341207, 0.04301514, 0.01357281],\n",
              "       [0.07216671, 0.4830076 , 0.4448256 ],\n",
              "       [0.01142118, 0.20663807, 0.7819407 ],\n",
              "       [0.01087778, 0.16419472, 0.82492757],\n",
              "       [0.9611631 , 0.03063353, 0.00820334],\n",
              "       [0.05310722, 0.8311036 , 0.11578918],\n",
              "       [0.03747644, 0.8105894 , 0.15193415],\n",
              "       [0.6344847 , 0.3268141 , 0.03870122],\n",
              "       [0.04775802, 0.7710393 , 0.18120259],\n",
              "       [0.02521378, 0.21262045, 0.76216584],\n",
              "       [0.08862488, 0.44786358, 0.46351153],\n",
              "       [0.9558469 , 0.03703596, 0.00711723],\n",
              "       [0.04708057, 0.3787695 , 0.5741499 ],\n",
              "       [0.95255095, 0.03790567, 0.00954329],\n",
              "       [0.95678425, 0.03352552, 0.0096902 ],\n",
              "       [0.93789715, 0.04807474, 0.01402804],\n",
              "       [0.9743142 , 0.02046469, 0.005221  ],\n",
              "       [0.9651976 , 0.02742513, 0.00737718],\n",
              "       [0.9625453 , 0.02960496, 0.00784974],\n",
              "       [0.9644767 , 0.02827678, 0.00724645],\n",
              "       [0.03546343, 0.53797793, 0.42655864],\n",
              "       [0.10346083, 0.47751433, 0.41902485],\n",
              "       [0.08889189, 0.6395404 , 0.27156773],\n",
              "       [0.02373236, 0.64954597, 0.3267217 ],\n",
              "       [0.03276278, 0.20128703, 0.76595014],\n",
              "       [0.00724703, 0.23980606, 0.7529469 ],\n",
              "       [0.00212085, 0.1790178 , 0.81886137]], dtype=float32)"
            ]
          },
          "metadata": {},
          "execution_count": 51
        }
      ]
    },
    {
      "cell_type": "markdown",
      "source": [
        "# 保存"
      ],
      "metadata": {
        "id": "jMHtKHeDCzDF"
      }
    },
    {
      "cell_type": "code",
      "source": [
        "from keras.models import load_model\n",
        "\n",
        "model.save('model.h5')\n",
        "load_model('model.h5')"
      ],
      "metadata": {
        "colab": {
          "base_uri": "https://localhost:8080/"
        },
        "id": "vtM4mLSyCpo4",
        "outputId": "aaaefebf-501c-4eca-c462-346548f134fa"
      },
      "execution_count": 52,
      "outputs": [
        {
          "output_type": "stream",
          "name": "stderr",
          "text": [
            "/usr/local/lib/python3.10/dist-packages/keras/src/engine/training.py:3000: UserWarning: You are saving your model as an HDF5 file via `model.save()`. This file format is considered legacy. We recommend using instead the native Keras format, e.g. `model.save('my_model.keras')`.\n",
            "  saving_api.save_model(\n"
          ]
        },
        {
          "output_type": "execute_result",
          "data": {
            "text/plain": [
              "<keras.src.engine.sequential.Sequential at 0x7e8502520a60>"
            ]
          },
          "metadata": {},
          "execution_count": 52
        }
      ]
    }
  ]
}